{
  "nbformat": 4,
  "nbformat_minor": 0,
  "metadata": {
    "colab": {
      "provenance": []
    },
    "kernelspec": {
      "name": "python3",
      "display_name": "Python 3"
    },
    "language_info": {
      "name": "python"
    }
  },
  "cells": [
    {
      "cell_type": "markdown",
      "source": [
        "**Creating CSV files**"
      ],
      "metadata": {
        "id": "-m5fwTnvs-G7"
      }
    },
    {
      "cell_type": "code",
      "execution_count": 37,
      "metadata": {
        "id": "bFcXbisUqoFI"
      },
      "outputs": [],
      "source": [
        "import numpy as np\n",
        "import random\n",
        "import os\n",
        "import matplotlib.pyplot as plt\n",
        "import pandas as pd\n",
        "from tensorflow.keras.models import Sequential\n",
        "from tensorflow.keras.layers import Conv2D, MaxPooling2D, Dense, Flatten\n",
        "from tensorflow.keras.utils import to_categorical\n",
        "from tensorflow.keras.preprocessing.image import load_img, img_to_array\n",
        "from tensorflow.keras.models import load_model\n",
        "from sklearn.model_selection import train_test_split\n"
      ]
    },
    {
      "cell_type": "markdown",
      "source": [
        "**Mount the Google Drive**"
      ],
      "metadata": {
        "id": "YHhQLsj9tp60"
      }
    },
    {
      "cell_type": "code",
      "source": [
        "from google.colab import drive\n",
        "drive.mount('/content/drive')"
      ],
      "metadata": {
        "colab": {
          "base_uri": "https://localhost:8080/"
        },
        "id": "bkR8jXOFtwYY",
        "outputId": "8dd712f6-01cd-4f24-b7ba-8a20d0c579c8"
      },
      "execution_count": 38,
      "outputs": [
        {
          "output_type": "stream",
          "name": "stdout",
          "text": [
            "Drive already mounted at /content/drive; to attempt to forcibly remount, call drive.mount(\"/content/drive\", force_remount=True).\n"
          ]
        }
      ]
    },
    {
      "cell_type": "markdown",
      "source": [
        "**Preprocess the Data: Load the images, resize them, and create labels.**"
      ],
      "metadata": {
        "id": "VabUim_A6IG3"
      }
    },
    {
      "cell_type": "code",
      "source": [
        "# Directory containing the uploaded images\n",
        "image_dir = '/content/drive/My Drive/deep_learning_nikini/data'"
      ],
      "metadata": {
        "id": "DzKJ7HKffyMo"
      },
      "execution_count": 39,
      "outputs": []
    },
    {
      "cell_type": "code",
      "source": [
        "image_paths = []\n",
        "labels = []"
      ],
      "metadata": {
        "id": "c_KeUy-a6NrE"
      },
      "execution_count": 40,
      "outputs": []
    },
    {
      "cell_type": "markdown",
      "source": [
        "**Load the Dataset and Class Labels**"
      ],
      "metadata": {
        "id": "s-3-gVyi9UX5"
      }
    },
    {
      "cell_type": "code",
      "source": [
        "for filename in os.listdir(image_dir):\n",
        "    if filename.startswith(\"A\") or filename.startswith(\"W\"):\n",
        "        image_paths.append(os.path.join(image_dir, filename))\n",
        "        # Create labels based on the filenames (0 for A, 1 for W)\n",
        "        if filename.startswith(\"A\"):\n",
        "            labels.append(0)\n",
        "        elif filename.startswith(\"W\"):\n",
        "            labels.append(1)"
      ],
      "metadata": {
        "id": "DWfYNIhBRE8N"
      },
      "execution_count": 41,
      "outputs": []
    },
    {
      "cell_type": "code",
      "source": [
        "# Create a DataFrame to store image paths and labels\n",
        "df = pd.DataFrame({'Image_Path': image_paths, 'Label': labels})"
      ],
      "metadata": {
        "id": "g8oBaEGbhZ_0"
      },
      "execution_count": 42,
      "outputs": []
    },
    {
      "cell_type": "code",
      "source": [
        "# Define the paths for the CSV files\n",
        "train_csv_path = '/content/drive/My Drive/deep_learning_nikini/train.csv'\n",
        "test_csv_path = '/content/drive/My Drive/deep_learning_nikini/test.csv'"
      ],
      "metadata": {
        "id": "-0G4_A3bf5fP"
      },
      "execution_count": 43,
      "outputs": []
    },
    {
      "cell_type": "code",
      "source": [
        "os.chdir(\"/content/drive/My Drive/deep_learning_nikini/\")\n",
        "os.getcwd()"
      ],
      "metadata": {
        "id": "hX2FYrCj2VDp",
        "colab": {
          "base_uri": "https://localhost:8080/",
          "height": 35
        },
        "outputId": "65fa96c6-0e9e-4575-960f-a74e3a8f3b6c"
      },
      "execution_count": 48,
      "outputs": [
        {
          "output_type": "execute_result",
          "data": {
            "text/plain": [
              "'/content/drive/My Drive/deep_learning_nikini'"
            ],
            "application/vnd.google.colaboratory.intrinsic+json": {
              "type": "string"
            }
          },
          "metadata": {},
          "execution_count": 48
        }
      ]
    },
    {
      "cell_type": "code",
      "source": [
        "# Split the DataFrame into training and testing sets\n",
        "train_df, test_df = train_test_split(df, test_size=0.2, random_state=42)"
      ],
      "metadata": {
        "id": "-ICq0BmSgAvQ"
      },
      "execution_count": 49,
      "outputs": []
    },
    {
      "cell_type": "code",
      "source": [
        "# Save the training and testing DataFrames as CSV files\n",
        "train_df.to_csv(train_csv_path, index=False)\n",
        "test_df.to_csv(test_csv_path, index=False)"
      ],
      "metadata": {
        "id": "1ZULIjHKgEl5"
      },
      "execution_count": 52,
      "outputs": []
    },
    {
      "cell_type": "code",
      "source": [
        "print(f\"CSV files saved:\\n- Training CSV: {train_csv_path}\\n- Testing CSV: {test_csv_path}\")\n"
      ],
      "metadata": {
        "id": "jQYujT1OgF8G",
        "colab": {
          "base_uri": "https://localhost:8080/"
        },
        "outputId": "a6e894d1-3f3c-4609-cd7f-81165f0117f0"
      },
      "execution_count": 53,
      "outputs": [
        {
          "output_type": "stream",
          "name": "stdout",
          "text": [
            "CSV files saved:\n",
            "- Training CSV: /content/drive/My Drive/deep_learning_nikini/train.csv\n",
            "- Testing CSV: /content/drive/My Drive/deep_learning_nikini/test.csv\n"
          ]
        }
      ]
    },
    {
      "cell_type": "markdown",
      "source": [
        "**Develop the CNN Algorithm**"
      ],
      "metadata": {
        "id": "7BNCLyPmL7xa"
      }
    },
    {
      "cell_type": "code",
      "source": [
        "# Define image size\n",
        "image_height, image_width = 80, 80\n",
        "\n",
        "# Define the paths for the CSV files (change these paths as needed)\n",
        "train_csv_path = '/content/drive/My Drive/deep_learning_nikini/train.csv'\n",
        "test_csv_path = '/content/drive/My Drive/deep_learning_nikini/test.csv'\n",
        "\n",
        "# Load the CSV files\n",
        "train_df = pd.read_csv(train_csv_path)\n",
        "test_df = pd.read_csv(test_csv_path)"
      ],
      "metadata": {
        "id": "BJVNzF59XXNA"
      },
      "execution_count": 54,
      "outputs": []
    },
    {
      "cell_type": "code",
      "source": [
        "# Load and preprocess the images\n",
        "def preprocess_images(image_paths, target_size=(image_height, image_width)):\n",
        "    images = []\n",
        "    for image_path in image_paths:\n",
        "        img = load_img(image_path, target_size=target_size)\n",
        "        img = img_to_array(img) / 255.0\n",
        "        images.append(img)\n",
        "    return np.array(images)\n"
      ],
      "metadata": {
        "id": "A-7xyAVcXaJ1"
      },
      "execution_count": 55,
      "outputs": []
    },
    {
      "cell_type": "code",
      "source": [
        "X_train = preprocess_images(train_df['Image_Path'])\n",
        "X_test = preprocess_images(test_df['Image_Path'])\n",
        "\n",
        "# Convert labels to binary format (0 or 1)\n",
        "Y_train = train_df['Label'].values\n",
        "Y_test = test_df['Label'].values"
      ],
      "metadata": {
        "id": "ONvmSzHFXd4F"
      },
      "execution_count": 56,
      "outputs": []
    },
    {
      "cell_type": "code",
      "source": [
        "X_train = X_train.reshape(len(X_train), 80, 80, 3)\n",
        "Y_train = Y_train.reshape(len(Y_train), 1)\n",
        "X_test = X_test.reshape(len(X_test), 80, 80, 3)\n",
        "Y_test = Y_test.reshape(len(Y_test), 1)\n",
        "print(\"Shape of X_train: \", X_train.shape)\n",
        "print(\"Shape of Y_train: \", Y_train.shape)\n",
        "print(\"Shape of X_test: \", X_test.shape)\n",
        "print(\"Shape of Y_test: \", Y_test.shape)\n"
      ],
      "metadata": {
        "id": "SqFDWONIY4kC",
        "colab": {
          "base_uri": "https://localhost:8080/"
        },
        "outputId": "bb7ee85c-3d17-4070-c11b-52479931f70c"
      },
      "execution_count": 57,
      "outputs": [
        {
          "output_type": "stream",
          "name": "stdout",
          "text": [
            "Shape of X_train:  (80, 80, 80, 3)\n",
            "Shape of Y_train:  (80, 1)\n",
            "Shape of X_test:  (20, 80, 80, 3)\n",
            "Shape of Y_test:  (20, 1)\n"
          ]
        }
      ]
    },
    {
      "cell_type": "code",
      "source": [
        "\n",
        "# Create a CNN model for binary classification\n",
        "model = Sequential()\n",
        "model.add(Conv2D(32, kernel_size=(3, 3), activation='relu', input_shape=(image_height, image_width, 3)))\n",
        "model.add(MaxPooling2D(pool_size=(2, 2)))\n",
        "model.add(Flatten())\n",
        "model.add(Dense(128, activation='relu'))\n",
        "model.add(Dense(1, activation='sigmoid'))  # Sigmoid activation for binary classification\n",
        "\n"
      ],
      "metadata": {
        "id": "xEdqU_GS8nXN"
      },
      "execution_count": 58,
      "outputs": []
    },
    {
      "cell_type": "code",
      "source": [
        "# Compile the model\n",
        "model.compile(loss='binary_crossentropy', optimizer='adam', metrics=['accuracy'])"
      ],
      "metadata": {
        "id": "KGZf_rS_XiOe"
      },
      "execution_count": 59,
      "outputs": []
    },
    {
      "cell_type": "code",
      "source": [
        "model.fit(X_train, Y_train, epochs = 40, batch_size = 64)"
      ],
      "metadata": {
        "colab": {
          "base_uri": "https://localhost:8080/"
        },
        "id": "uqZ8ITMZXlde",
        "outputId": "e397c2df-b13b-4e8c-d990-3c3a435b0100"
      },
      "execution_count": 60,
      "outputs": [
        {
          "output_type": "stream",
          "name": "stdout",
          "text": [
            "Epoch 1/40\n",
            "2/2 [==============================] - 2s 143ms/step - loss: 0.5521 - accuracy: 0.7125\n",
            "Epoch 2/40\n",
            "2/2 [==============================] - 1s 153ms/step - loss: 0.0077 - accuracy: 1.0000\n",
            "Epoch 3/40\n",
            "2/2 [==============================] - 1s 282ms/step - loss: 5.8442e-04 - accuracy: 1.0000\n",
            "Epoch 4/40\n",
            "2/2 [==============================] - 1s 244ms/step - loss: 1.5483e-04 - accuracy: 1.0000\n",
            "Epoch 5/40\n",
            "2/2 [==============================] - 1s 264ms/step - loss: 6.1069e-05 - accuracy: 1.0000\n",
            "Epoch 6/40\n",
            "2/2 [==============================] - 1s 202ms/step - loss: 2.5084e-05 - accuracy: 1.0000\n",
            "Epoch 7/40\n",
            "2/2 [==============================] - 1s 204ms/step - loss: 1.2418e-05 - accuracy: 1.0000\n",
            "Epoch 8/40\n",
            "2/2 [==============================] - 1s 141ms/step - loss: 5.1465e-06 - accuracy: 1.0000\n",
            "Epoch 9/40\n",
            "2/2 [==============================] - 0s 156ms/step - loss: 3.7899e-06 - accuracy: 1.0000\n",
            "Epoch 10/40\n",
            "2/2 [==============================] - 0s 159ms/step - loss: 2.2937e-06 - accuracy: 1.0000\n",
            "Epoch 11/40\n",
            "2/2 [==============================] - 0s 136ms/step - loss: 1.2629e-06 - accuracy: 1.0000\n",
            "Epoch 12/40\n",
            "2/2 [==============================] - 0s 139ms/step - loss: 8.9046e-07 - accuracy: 1.0000\n",
            "Epoch 13/40\n",
            "2/2 [==============================] - 0s 134ms/step - loss: 7.5126e-07 - accuracy: 1.0000\n",
            "Epoch 14/40\n",
            "2/2 [==============================] - 1s 208ms/step - loss: 5.6498e-07 - accuracy: 1.0000\n",
            "Epoch 15/40\n",
            "2/2 [==============================] - 1s 237ms/step - loss: 4.0295e-07 - accuracy: 1.0000\n",
            "Epoch 16/40\n",
            "2/2 [==============================] - 1s 170ms/step - loss: 3.6208e-07 - accuracy: 1.0000\n",
            "Epoch 17/40\n",
            "2/2 [==============================] - 1s 261ms/step - loss: 3.0310e-07 - accuracy: 1.0000\n",
            "Epoch 18/40\n",
            "2/2 [==============================] - 1s 200ms/step - loss: 2.6128e-07 - accuracy: 1.0000\n",
            "Epoch 19/40\n",
            "2/2 [==============================] - 1s 220ms/step - loss: 2.2979e-07 - accuracy: 1.0000\n",
            "Epoch 20/40\n",
            "2/2 [==============================] - 0s 132ms/step - loss: 2.0688e-07 - accuracy: 1.0000\n",
            "Epoch 21/40\n",
            "2/2 [==============================] - 0s 110ms/step - loss: 1.8249e-07 - accuracy: 1.0000\n",
            "Epoch 22/40\n",
            "2/2 [==============================] - 0s 143ms/step - loss: 1.7538e-07 - accuracy: 1.0000\n",
            "Epoch 23/40\n",
            "2/2 [==============================] - 0s 168ms/step - loss: 1.6405e-07 - accuracy: 1.0000\n",
            "Epoch 24/40\n",
            "2/2 [==============================] - 0s 120ms/step - loss: 1.5503e-07 - accuracy: 1.0000\n",
            "Epoch 25/40\n",
            "2/2 [==============================] - 0s 115ms/step - loss: 1.4777e-07 - accuracy: 1.0000\n",
            "Epoch 26/40\n",
            "2/2 [==============================] - 0s 131ms/step - loss: 1.4187e-07 - accuracy: 1.0000\n",
            "Epoch 27/40\n",
            "2/2 [==============================] - 0s 131ms/step - loss: 1.3506e-07 - accuracy: 1.0000\n",
            "Epoch 28/40\n",
            "2/2 [==============================] - 0s 113ms/step - loss: 1.3291e-07 - accuracy: 1.0000\n",
            "Epoch 29/40\n",
            "2/2 [==============================] - 0s 154ms/step - loss: 1.2922e-07 - accuracy: 1.0000\n",
            "Epoch 30/40\n",
            "2/2 [==============================] - 0s 129ms/step - loss: 1.2613e-07 - accuracy: 1.0000\n",
            "Epoch 31/40\n",
            "2/2 [==============================] - 0s 116ms/step - loss: 1.2243e-07 - accuracy: 1.0000\n",
            "Epoch 32/40\n",
            "2/2 [==============================] - 0s 143ms/step - loss: 1.2009e-07 - accuracy: 1.0000\n",
            "Epoch 33/40\n",
            "2/2 [==============================] - 0s 124ms/step - loss: 1.1880e-07 - accuracy: 1.0000\n",
            "Epoch 34/40\n",
            "2/2 [==============================] - 0s 109ms/step - loss: 1.1655e-07 - accuracy: 1.0000\n",
            "Epoch 35/40\n",
            "2/2 [==============================] - 1s 136ms/step - loss: 1.1464e-07 - accuracy: 1.0000\n",
            "Epoch 36/40\n",
            "2/2 [==============================] - 0s 122ms/step - loss: 1.1231e-07 - accuracy: 1.0000\n",
            "Epoch 37/40\n",
            "2/2 [==============================] - 0s 143ms/step - loss: 1.1141e-07 - accuracy: 1.0000\n",
            "Epoch 38/40\n",
            "2/2 [==============================] - 0s 150ms/step - loss: 1.0985e-07 - accuracy: 1.0000\n",
            "Epoch 39/40\n",
            "2/2 [==============================] - 0s 174ms/step - loss: 1.0845e-07 - accuracy: 1.0000\n",
            "Epoch 40/40\n",
            "2/2 [==============================] - 0s 118ms/step - loss: 1.0723e-07 - accuracy: 1.0000\n"
          ]
        },
        {
          "output_type": "execute_result",
          "data": {
            "text/plain": [
              "<keras.src.callbacks.History at 0x7a023d7c4fa0>"
            ]
          },
          "metadata": {},
          "execution_count": 60
        }
      ]
    },
    {
      "cell_type": "code",
      "source": [
        "# Evaluate the model on the test data\n",
        "accuracy = model.evaluate(X_test, Y_test)[1]\n",
        "print(f\"Test accuracy: {accuracy}\")"
      ],
      "metadata": {
        "colab": {
          "base_uri": "https://localhost:8080/"
        },
        "id": "q51DX7MUXo4u",
        "outputId": "5a20bb82-6e8f-400d-c17b-8c7dffbd7099"
      },
      "execution_count": 61,
      "outputs": [
        {
          "output_type": "stream",
          "name": "stdout",
          "text": [
            "1/1 [==============================] - 0s 197ms/step - loss: 2.9285e-10 - accuracy: 1.0000\n",
            "Test accuracy: 1.0\n"
          ]
        }
      ]
    },
    {
      "cell_type": "code",
      "source": [
        "# Save the trained model\n",
        "model.save('/content/drive/My Drive/deep_learning_nikini/trained_model.h5')"
      ],
      "metadata": {
        "id": "TXPDUV-mXvRZ"
      },
      "execution_count": 64,
      "outputs": []
    },
    {
      "cell_type": "markdown",
      "source": [
        "**Test Images**"
      ],
      "metadata": {
        "id": "dDM6V3j3X9Uk"
      }
    },
    {
      "cell_type": "code",
      "source": [
        "# Load the trained model\n",
        "model = load_model('/content/drive/My Drive/deep_learning_nikini/trained_model.h5')"
      ],
      "metadata": {
        "id": "MojZbErIUV5K"
      },
      "execution_count": 65,
      "outputs": []
    },
    {
      "cell_type": "code",
      "source": [
        "# Use the model to predict labels for the test images\n",
        "predicted_labels = model.predict(X_test)\n",
        "predicted_labels = np.argmax(predicted_labels, axis=1)  # Convert softmax outputs to class labels"
      ],
      "metadata": {
        "colab": {
          "base_uri": "https://localhost:8080/"
        },
        "id": "3x9E_qr6YC0K",
        "outputId": "06903ff1-2f9f-482e-cf14-59488f3791ac"
      },
      "execution_count": 66,
      "outputs": [
        {
          "output_type": "stream",
          "name": "stdout",
          "text": [
            "1/1 [==============================] - 0s 139ms/step\n"
          ]
        }
      ]
    },
    {
      "cell_type": "code",
      "source": [
        "# Create a DataFrame to store the image paths and predicted labels\n",
        "output_df = pd.DataFrame({'Image_Path': test_df['Image_Path'], 'Predicted_Label': predicted_labels})"
      ],
      "metadata": {
        "id": "Rugyw343YFyw"
      },
      "execution_count": 67,
      "outputs": []
    },
    {
      "cell_type": "code",
      "source": [
        "# Save the output DataFrame as a CSV file (you can change the output path)\n",
        "output_csv_path = '/content/drive/My Drive/Deep_Learning/predicted_labels.csv'\n",
        "output_df.to_csv(output_csv_path, index=False)\n",
        "\n",
        "print(f\"Predicted labels saved to: {output_csv_path}\")\n"
      ],
      "metadata": {
        "colab": {
          "base_uri": "https://localhost:8080/"
        },
        "id": "XWyUPm7VYI5L",
        "outputId": "fb467d76-60b0-4627-b85b-f943dd74ffa8"
      },
      "execution_count": 68,
      "outputs": [
        {
          "output_type": "stream",
          "name": "stdout",
          "text": [
            "Predicted labels saved to: /content/drive/My Drive/Deep_Learning/predicted_labels.csv\n"
          ]
        }
      ]
    },
    {
      "cell_type": "markdown",
      "source": [
        "**Cheking original images**"
      ],
      "metadata": {
        "id": "k_A-7hKgXyhr"
      }
    },
    {
      "cell_type": "code",
      "source": [
        "idx = random.randint(0, len(X_train))\n",
        "plt.imshow(X_train[idx, :])\n",
        "plt.show()"
      ],
      "metadata": {
        "colab": {
          "base_uri": "https://localhost:8080/",
          "height": 433
        },
        "id": "UQL8D5aYXA0b",
        "outputId": "5c583a63-0054-4a82-f9c7-937e0269ae88"
      },
      "execution_count": 69,
      "outputs": [
        {
          "output_type": "display_data",
          "data": {
            "text/plain": [
              "<Figure size 640x480 with 1 Axes>"
            ],
            "image/png": "[encoded data removed]"
          },
          "metadata": {}
        }
      ]
    },
    {
      "cell_type": "markdown",
      "source": [
        "**Model evaluation**"
      ],
      "metadata": {
        "id": "sKDevZfZYakd"
      }
    },
    {
      "cell_type": "code",
      "source": [
        "model.evaluate(X_test, Y_test)"
      ],
      "metadata": {
        "colab": {
          "base_uri": "https://localhost:8080/"
        },
        "id": "lWZhxgEtYXYR",
        "outputId": "be1f5bb9-d9b6-41c5-a593-3988e0ab68a8"
      },
      "execution_count": 70,
      "outputs": [
        {
          "output_type": "stream",
          "name": "stdout",
          "text": [
            "1/1 [==============================] - 0s 172ms/step - loss: 2.9285e-10 - accuracy: 1.0000\n"
          ]
        },
        {
          "output_type": "execute_result",
          "data": {
            "text/plain": [
              "[2.928468578744514e-10, 1.0]"
            ]
          },
          "metadata": {},
          "execution_count": 70
        }
      ]
    },
    {
      "cell_type": "code",
      "source": [
        "# Choose a random index from the test set\n",
        "idx2 = random.randint(0, len(Y_test))\n",
        "\n",
        "# Display the image\n",
        "plt.imshow(X_test[idx2, :])\n",
        "plt.show()\n",
        "\n",
        "# Predict using the model for the selected image\n",
        "y_pred = model.predict(X_test[idx2, :].reshape(1, 80, 80, 3))\n",
        "\n",
        "# Check the prediction and print the result\n",
        "if np.all(y_pred < 0.5):\n",
        "    pred = 'අ'\n",
        "else:\n",
        "    pred = 'ව'\n",
        "\n",
        "print(\"මෙය:\", pred, \" අකුර වේ\")\n",
        "\n",
        "# Evaluate the model on the test data\n",
        "loss, accuracy = model.evaluate(X_test, Y_test)\n",
        "\n",
        "# Print the test accuracy\n",
        "print(f\"Test accuracy: {accuracy}\")"
      ],
      "metadata": {
        "colab": {
          "base_uri": "https://localhost:8080/",
          "height": 504
        },
        "id": "jsXfbnGXWfPx",
        "outputId": "c4db6af6-dc6c-4078-99f1-f6849306245a"
      },
      "execution_count": 71,
      "outputs": [
        {
          "output_type": "display_data",
          "data": {
            "text/plain": [
              "<Figure size 640x480 with 1 Axes>"
            ],
            "image/png": "[encoded data removed]"
          },
          "metadata": {}
        },
        {
          "output_type": "stream",
          "name": "stdout",
          "text": [
            "1/1 [==============================] - 0s 26ms/step\n",
            "මෙය: අ  අකුර වේ\n",
            "1/1 [==============================] - 0s 50ms/step - loss: 2.9285e-10 - accuracy: 1.0000\n",
            "Test accuracy: 1.0\n"
          ]
        }
      ]
    },
    {
      "cell_type": "code",
      "source": [
        "# Choose a random index from the test set\n",
        "idx2 = random.randint(0, len(Y_test))\n",
        "\n",
        "# Display the image\n",
        "plt.imshow(X_test[idx2, :])\n",
        "plt.show()\n",
        "\n",
        "# Predict using the model for the selected image\n",
        "y_pred = model.predict(X_test[idx2, :].reshape(1, 80, 80, 3))\n",
        "\n",
        "# Check the prediction and print the result\n",
        "if np.all(y_pred < 0.5):\n",
        "    pred = 'අ'\n",
        "else:\n",
        "    pred = 'ව'\n",
        "\n",
        "print(\"මෙය:\", pred, \" අකුර වේ\")\n",
        "\n",
        "# Evaluate the model on the test data\n",
        "loss, accuracy = model.evaluate(X_test, Y_test)\n",
        "\n",
        "# Print the test accuracy\n",
        "print(f\"Test accuracy: {accuracy}\")"
      ],
      "metadata": {
        "colab": {
          "base_uri": "https://localhost:8080/",
          "height": 504
        },
        "id": "e-CWPjisdc7_",
        "outputId": "03429f4c-921a-408e-ceb5-3ed02fcabb3d"
      },
      "execution_count": 73,
      "outputs": [
        {
          "output_type": "display_data",
          "data": {
            "text/plain": [
              "<Figure size 640x480 with 1 Axes>"
            ],
            "image/png": "[encoded data removed]"
          },
          "metadata": {}
        },
        {
          "output_type": "stream",
          "name": "stdout",
          "text": [
            "1/1 [==============================] - 0s 26ms/step\n",
            "මෙය: ව  අකුර වේ\n",
            "1/1 [==============================] - 0s 51ms/step - loss: 2.9285e-10 - accuracy: 1.0000\n",
            "Test accuracy: 1.0\n"
          ]
        }
      ]
    }
  ]
}